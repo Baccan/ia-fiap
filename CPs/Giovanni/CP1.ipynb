{
 "cells": [
  {
   "cell_type": "code",
   "execution_count": null,
   "metadata": {},
   "outputs": [],
   "source": [
    "import pandas as pd\n",
    "import matplotlib.pyplot as plt\n",
    "import seaborn as sns\n",
    "import plotly.express as px"
   ]
  },
  {
   "attachments": {},
   "cell_type": "markdown",
   "metadata": {},
   "source": [
    "No comando a baixo, estamos lendo o arquivo"
   ]
  },
  {
   "cell_type": "code",
   "execution_count": null,
   "metadata": {},
   "outputs": [],
   "source": [
    "df = pd.read_csv('MalMem2022_modificado.csv')\n"
   ]
  },
  {
   "cell_type": "code",
   "execution_count": null,
   "metadata": {},
   "outputs": [],
   "source": [
    "df = df.dropna()"
   ]
  },
  {
   "cell_type": "code",
   "execution_count": null,
   "metadata": {},
   "outputs": [],
   "source": [
    "df.sample(5)"
   ]
  },
  {
   "cell_type": "code",
   "execution_count": null,
   "metadata": {},
   "outputs": [],
   "source": [
    "df_filtrado = df.loc[:, ['svcscan.nactive', 'dlllist.avg_dlls_per_proc',\n",
    "                         'svcscan.process_services', 'pslist.avg_threads',\n",
    "                         # Essas duas precisam estar na solução final:\n",
    "                         'Category', 'Class'\n",
    "                         ]]"
   ]
  },
  {
   "cell_type": "code",
   "execution_count": null,
   "metadata": {},
   "outputs": [],
   "source": [
    "df_filtrado.sample(5)"
   ]
  },
  {
   "cell_type": "code",
   "execution_count": null,
   "metadata": {},
   "outputs": [],
   "source": [
    "var1 = df_filtrado[df_filtrado['Class']=='Benign'].describe().T[['min','max']]\n",
    "\n",
    "var2 = df_filtrado[df_filtrado['Class']=='Malware'].describe().T[['min','max']]\n",
    "\n",
    "print(\"Benign \")\n",
    "print(var1)\n",
    "print(\" \")\n",
    "print(\"Malware \")\n",
    "print(var2)\n"
   ]
  },
  {
   "cell_type": "code",
   "execution_count": null,
   "metadata": {},
   "outputs": [],
   "source": [
    "sns.pairplot(df_filtrado.sample(1000),  hue=\"Class\", kind='scatter')"
   ]
  },
  {
   "cell_type": "code",
   "execution_count": null,
   "metadata": {},
   "outputs": [],
   "source": [
    "vars = ['svcscan.nactive', 'dlllist.avg_dlls_per_proc', 'svcscan.process_services', 'pslist.avg_threads']\n",
    "for var in vars:\n",
    "    sns.catplot(data=df_filtrado.sample(1000),\n",
    "                y=var,\n",
    "                x='Class',\n",
    "                kind='swarm'\n",
    "               )"
   ]
  },
  {
   "cell_type": "code",
   "execution_count": 42,
   "metadata": {},
   "outputs": [
    {
     "data": {
      "text/plain": [
       "<seaborn.axisgrid.FacetGrid at 0x1bf7c205b70>"
      ]
     },
     "execution_count": 42,
     "metadata": {},
     "output_type": "execute_result"
    },
    {
     "data": {
      "image/png": "[encoded data removed]",
      "text/plain": [
       "<Figure size 608.5x500 with 1 Axes>"
      ]
     },
     "metadata": {},
     "output_type": "display_data"
    }
   ],
   "source": [
    "df_filtrado['Category_detail'] = df_filtrado['Category'].apply(lambda x: x if x==\"Benign\" else x.split('-')[0])\n",
    "\n",
    "sns.catplot(\n",
    "    data=df_filtrado.sample(500), x=\"svcscan.nactive\", y='Class' , hue=\"Class\",\n",
    "    kind=\"violin\", bw=.25, cut=0, split=True,)"
   ]
  },
  {
   "cell_type": "code",
   "execution_count": null,
   "metadata": {},
   "outputs": [],
   "source": [
    "var2 = df_filtrado[df_filtrado['Class']=='Malware'].describe().T[['min','max']]\n"
   ]
  },
  {
   "cell_type": "code",
   "execution_count": null,
   "metadata": {},
   "outputs": [],
   "source": [
    "pd.concat([df_filtrado.describe().T[['count','mean','min','max']],\n",
    "    df_filtrado[df_filtrado['Class']=='Benign'].describe().T[['count','mean','min','max']] ,\n",
    "    df_filtrado[df_filtrado['Class']=='Malware'].describe().T[['count','mean','min','max']]\n",
    "    ], keys=['All', 'Benign', 'Malware']).drop('count', axis=1).style.bar(color='brown')"
   ]
  },
  {
   "cell_type": "code",
   "execution_count": null,
   "metadata": {},
   "outputs": [],
   "source": [
    "pd.DataFrame.hist(df_filtrado,figsize=(7.5,6),bins=(50), yrot=30, xrot=30)"
   ]
  },
  {
   "attachments": {},
   "cell_type": "markdown",
   "metadata": {},
   "source": [
    "Ultilizando Boxplot para indetificar \"Outliers\""
   ]
  },
  {
   "cell_type": "code",
   "execution_count": null,
   "metadata": {},
   "outputs": [],
   "source": [
    "pd.DataFrame.boxplot(df_filtrado ,figsize=(11,5), rot=10)"
   ]
  },
  {
   "cell_type": "code",
   "execution_count": null,
   "metadata": {},
   "outputs": [],
   "source": [
    "# Extraíndo a categoria de cada malware df_filtrado['Category_detail'] = df_filtrado['Category'].apply(  lambda x: x if x==\"Benign\" else x.split('-')[0] ) for col in df_filtrado.columns[:4]:  # Removendo outliers  q = df_filtrado[col].quantile(0.95)   df_filtrado_sem_outliers = df_filtrado[df_filtrado[col] < q]  sns.displot(data=df_filtrado_sem_outliers.sample(1000), x=col, hue=\"Category_detail\", kind=\"kde\")\n",
    "# Extraíndo a categoria de cada malware\n",
    "df_filtrado['Category_detail'] = df_filtrado['Category'].apply(\n",
    " lambda x: x if x==\"Benign\" else x.split('-')[0]\n",
    ")   \n",
    "for col in df_filtrado.columns[:4]:\n",
    " # Removendo outliers\n",
    " q = df_filtrado[col].quantile(0.95) \n",
    " df_filtrado_sem_outliers = df_filtrado[df_filtrado[col] < q]\n",
    " sns.displot(data=df_filtrado_sem_outliers.sample(1000), x=col, hue=\"Category_detail\", kind=\"kde\")"
   ]
  },
  {
   "cell_type": "code",
   "execution_count": null,
   "metadata": {},
   "outputs": [],
   "source": [
    "df_filtrado['Category_detail'] = df_filtrado['Category'].apply(\n",
    "    lambda x: x if x==\"Benign\" else x.split('-')[0])\n",
    "fig = px.scatter_3d(df_filtrado.sample(500), \n",
    "                    x='svcscan.nactive', \n",
    "                    y='dlllist.avg_dlls_per_proc', \n",
    "                    z='svcscan.process_services',\n",
    "                    color='Category_detail' )\n",
    "fig.show()\n"
   ]
  },
  {
   "cell_type": "code",
   "execution_count": null,
   "metadata": {},
   "outputs": [],
   "source": [
    "sns.jointplot(df_filtrado.sample(2000), x=\"svcscan.nactive\", y=\"dlllist.avg_dlls_per_proc\", hue=\"Class\", kind=\"kde\", marginal_kws=dict( fill=True))"
   ]
  }
 ],
 "metadata": {
  "kernelspec": {
   "display_name": "Python 3",
   "language": "python",
   "name": "python3"
  },
  "language_info": {
   "codemirror_mode": {
    "name": "ipython",
    "version": 3
   },
   "file_extension": ".py",
   "mimetype": "text/x-python",
   "name": "python",
   "nbconvert_exporter": "python",
   "pygments_lexer": "ipython3",
   "version": "3.10.7"
  },
  "orig_nbformat": 4
 },
 "nbformat": 4,
 "nbformat_minor": 2
}
